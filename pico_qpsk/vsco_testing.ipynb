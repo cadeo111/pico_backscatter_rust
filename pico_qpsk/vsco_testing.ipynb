{
 "cells": [
  {
   "cell_type": "code",
   "id": "initial_id",
   "metadata": {
    "collapsed": true,
    "ExecuteTime": {
     "end_time": "2025-02-04T13:59:52.371093Z",
     "start_time": "2025-02-04T13:59:52.357682Z"
    }
   },
   "source": [
    "# 500 ns symbol rate\n",
    "# 10 MHz frequency offset\n",
    "# (chip len * repetitions) * (1/(freq)) * (10^9) = 500ns\n",
    "# frequency offset * chip len = freq\n",
    "# (4*16) * (1/(128)) = 0.5ms\n",
    "# f  = 2 * (chip len * repetitions) (if in ms)\n",
    "# frequency offset * chip len = 2 * chip len * repetitions\n",
    "# repetitions = (frequency offset * chip len) / (2 * chip len)\n",
    "\n",
    "\n",
    "\n",
    "carrier_freq = 2452\n",
    "chip_len = 12\n",
    "offset_MHz = 10\n",
    "\n",
    "\n",
    "\n",
    "\n",
    "assert chip_len % 2 == 0\n",
    "assert chip_len >= 8\n",
    "\n",
    "tx_freq = offset_MHz + carrier_freq\n",
    "repetitions = offset_MHz / 2\n",
    "pio_freq = offset_MHz * chip_len\n",
    "\n",
    "assert (repetitions*chip_len) * (1/(pio_freq)) == 0.5\n",
    "\n",
    "print(\"TX freq:\", tx_freq)\n",
    "print(\"repetitions:\", repetitions)\n",
    "print(\"pio_freq:\", pio_freq)\n",
    "print(\"symbol len:\", (repetitions*chip_len) * (1/(pio_freq)))\n",
    "#f  = 2 * (chip len * 1)\n",
    "# print(\"pio_freq: 1 rep\", 2 * chip_len)\n",
    "\n"
   ],
   "outputs": [
    {
     "name": "stdout",
     "output_type": "stream",
     "text": [
      "TX freq: 2462\n",
      "repetitions: 5.0\n",
      "pio_freq: 120\n",
      "symbol len: 0.5\n"
     ]
    }
   ],
   "execution_count": 20
  },
  {
   "metadata": {},
   "cell_type": "code",
   "outputs": [],
   "execution_count": null,
   "source": "\n",
   "id": "c91ec9f2ae23ba9"
  }
 ],
 "metadata": {
  "kernelspec": {
   "display_name": "Python 3",
   "language": "python",
   "name": "python3"
  },
  "language_info": {
   "codemirror_mode": {
    "name": "ipython",
    "version": 2
   },
   "file_extension": ".py",
   "mimetype": "text/x-python",
   "name": "python",
   "nbconvert_exporter": "python",
   "pygments_lexer": "ipython2",
   "version": "2.7.6"
  }
 },
 "nbformat": 4,
 "nbformat_minor": 5
}
